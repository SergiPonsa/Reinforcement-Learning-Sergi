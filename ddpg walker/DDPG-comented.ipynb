{
 "cells": [
  {
   "cell_type": "code",
   "execution_count": 1,
   "metadata": {},
   "outputs": [],
   "source": [
    "import gym\n",
    "import random\n",
    "import torch\n",
    "import numpy as np\n",
    "from collections import deque\n",
    "import matplotlib.pyplot as plt\n",
    "%matplotlib inline\n",
    "\n",
    "from ddpg_agent_comented import Agent"
   ]
  },
  {
   "cell_type": "code",
   "execution_count": 2,
   "metadata": {},
   "outputs": [
    {
     "name": "stderr",
     "output_type": "stream",
     "text": [
      "/home/sergi/anaconda3/envs/Train/lib/python3.8/site-packages/gym/logger.py:30: UserWarning: \u001b[33mWARN: Box bound precision lowered by casting to float32\u001b[0m\n",
      "  warnings.warn(colorize('%s: %s'%('WARN', msg % args), 'yellow'))\n"
     ]
    }
   ],
   "source": [
    "env = gym.make('BipedalWalker-v3')\n",
    "env.seed(10)\n",
    "\n",
    "#Agent will create both the actor and the critic\n",
    "agent = Agent(state_size=env.observation_space.shape[0], action_size=env.action_space.shape[0], random_seed=10)"
   ]
  },
  {
   "cell_type": "code",
   "execution_count": 3,
   "metadata": {},
   "outputs": [
    {
     "name": "stdout",
     "output_type": "stream",
     "text": [
      "Episode 100\tAverage Score: -64.49\tScore: -40.53\n",
      "Episode 200\tAverage Score: -60.86\tScore: -49.995\n",
      "Episode 300\tAverage Score: -49.53\tScore: -97.745\n",
      "Episode 400\tAverage Score: -96.36\tScore: -96.795\n",
      "Episode 500\tAverage Score: -97.04\tScore: -96.98\n",
      "Episode 600\tAverage Score: -95.93\tScore: -95.24\n",
      "Episode 700\tAverage Score: -94.87\tScore: -94.78\n",
      "Episode 800\tAverage Score: -95.59\tScore: -95.80\n",
      "Episode 900\tAverage Score: -96.55\tScore: -95.327\n",
      "Episode 1000\tAverage Score: -97.39\tScore: -96.46\n",
      "Episode 1100\tAverage Score: -96.20\tScore: -96.058\n",
      "Episode 1200\tAverage Score: -96.41\tScore: -96.042\n",
      "Episode 1300\tAverage Score: -99.11\tScore: -121.30\n",
      "Episode 1400\tAverage Score: -95.99\tScore: -95.9859\n",
      "Episode 1500\tAverage Score: -96.76\tScore: -96.046\n",
      "Episode 1600\tAverage Score: -97.98\tScore: -96.439\n",
      "Episode 1700\tAverage Score: -98.46\tScore: -96.130\n",
      "Episode 1800\tAverage Score: -96.25\tScore: -95.401\n",
      "Episode 1900\tAverage Score: -92.32\tScore: -96.269\n",
      "Episode 2000\tAverage Score: -84.61\tScore: -99.200\n"
     ]
    },
    {
     "data": {
      "image/png": "[encoded data removed]",
      "text/plain": [
       "<Figure size 432x288 with 1 Axes>"
      ]
     },
     "metadata": {
      "needs_background": "light"
     },
     "output_type": "display_data"
    }
   ],
   "source": [
    "def ddpg(n_episodes=2000, max_t=700):\n",
    "    scores_deque = deque(maxlen=100)\n",
    "    scores = []\n",
    "    max_score = -np.Inf\n",
    "    for i_episode in range(1, n_episodes+1):\n",
    "        #Initialize the simulation\n",
    "        state = env.reset() # Initial state\n",
    "        agent.reset()# Reset the noise to be add to the mesures (a Ornstein-Uhlenbeck noise ) | https://en.wikipedia.org/wiki/Ornstein%E2%80%93Uhlenbeck_process\n",
    "        score = 0 # intial score\n",
    "        \n",
    "        for t in range(max_t): # from time 0 to tmax\n",
    "            action = agent.act(state) # computes the action to be preform using the net policy without training, obtained from the actor_local,net that we are not currently training\n",
    "            next_state, reward, done, _ = env.step(action) # Execute the action on the enviorment, obtaining next_state, etc\n",
    "            agent.step(state, action, reward, next_state, done) # First only save the data, once it has enough data trains\n",
    "                                                                # To train it take a random sample from the memory\n",
    "                                                                \n",
    "                                                                #Critic\n",
    "                                                                # Compute the Q target using critic_target, applying the actions of the actor_target, net we are training\n",
    "                                                                # Compute the Q local using the critic_local, net we are not training\n",
    "                                                                # Compute the mean square error between the Qs\n",
    "                                                                # update temporaly the target parameters from the gradient of this error\n",
    "                                                                # Do an interpolation between the critic local, we are not training and the target\n",
    "                                                                # θ_target = τ*θ_local + (1 - τ)*θ_target\n",
    "                                                \n",
    "                                                                # Actor\n",
    "                                                                # determine the action with the actor_local, the net we are not training now\n",
    "                                                                # determine with the critic_local, the net we are not training now, the error\n",
    "                                                                # do the gradient\n",
    "                                                                # obtain the parameters from the optimizer\n",
    "                                                                # Do an interpolation between the actor_local, we are not training and the target\n",
    "                                                                # θ_target = τ*θ_local + (1 - τ)*θ_target\n",
    "                                                                \n",
    "                            \n",
    "                            \n",
    "            state = next_state\n",
    "            score += reward\n",
    "            if done:\n",
    "                break \n",
    "        scores_deque.append(score)\n",
    "        scores.append(score)\n",
    "        print('\\rEpisode {}\\tAverage Score: {:.2f}\\tScore: {:.2f}'.format(i_episode, np.mean(scores_deque), score), end=\"\")\n",
    "        if i_episode % 100 == 0:\n",
    "            torch.save(agent.actor_local.state_dict(), 'checkpoint_actor.pth')\n",
    "            torch.save(agent.critic_local.state_dict(), 'checkpoint_critic.pth')\n",
    "            print('\\rEpisode {}\\tAverage Score: {:.2f}'.format(i_episode, np.mean(scores_deque)))   \n",
    "    return scores\n",
    "\n",
    "scores = ddpg()\n",
    "\n",
    "fig = plt.figure()\n",
    "ax = fig.add_subplot(111)\n",
    "plt.plot(np.arange(1, len(scores)+1), scores)\n",
    "plt.ylabel('Score')\n",
    "plt.xlabel('Episode #')\n",
    "plt.show()"
   ]
  },
  {
   "cell_type": "code",
   "execution_count": 5,
   "metadata": {},
   "outputs": [],
   "source": [
    "agent.actor_local.load_state_dict(torch.load('checkpoint_actor.pth'))\n",
    "agent.critic_local.load_state_dict(torch.load('checkpoint_critic.pth'))\n",
    "\n",
    "state = env.reset()\n",
    "agent.reset()   \n",
    "while True:\n",
    "    action = agent.act(state)\n",
    "    env.render()\n",
    "    next_state, reward, done, _ = env.step(action)\n",
    "    state = next_state\n",
    "    if done:\n",
    "        break\n",
    "        \n",
    "env.close()"
   ]
  },
  {
   "cell_type": "code",
   "execution_count": null,
   "metadata": {},
   "outputs": [],
   "source": []
  }
 ],
 "metadata": {
  "kernelspec": {
   "display_name": "Python 3",
   "language": "python",
   "name": "python3"
  },
  "language_info": {
   "codemirror_mode": {
    "name": "ipython",
    "version": 3
   },
   "file_extension": ".py",
   "mimetype": "text/x-python",
   "name": "python",
   "nbconvert_exporter": "python",
   "pygments_lexer": "ipython3",
   "version": "3.8.1"
  }
 },
 "nbformat": 4,
 "nbformat_minor": 2
}
