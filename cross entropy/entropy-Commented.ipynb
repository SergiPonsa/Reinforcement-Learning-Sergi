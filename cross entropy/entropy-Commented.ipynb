{
 "cells": [
  {
   "cell_type": "code",
   "execution_count": 2,
   "metadata": {},
   "outputs": [],
   "source": [
    "import gym\n",
    "import math\n",
    "import numpy as np\n",
    "from collections import deque\n",
    "import matplotlib.pyplot as plt\n",
    "%matplotlib inline\n",
    "\n",
    "import torch\n",
    "import torch.nn as nn\n",
    "import torch.nn.functional as F\n",
    "from torch.autograd import Variable\n",
    "\n",
    "import time as t"
   ]
  },
  {
   "cell_type": "code",
   "execution_count": 3,
   "metadata": {},
   "outputs": [
    {
     "name": "stdout",
     "output_type": "stream",
     "text": [
      "Device  cuda:0\n",
      "observation space: Box(2,)\n",
      "action space: Box(1,)\n",
      "  - low: [-1.]\n",
      "  - high: [1.]\n"
     ]
    },
    {
     "name": "stderr",
     "output_type": "stream",
     "text": [
      "/home/sergi/anaconda3/envs/Train/lib/python3.8/site-packages/gym/logger.py:30: UserWarning: \u001b[33mWARN: Box bound precision lowered by casting to float32\u001b[0m\n",
      "  warnings.warn(colorize('%s: %s'%('WARN', msg % args), 'yellow'))\n"
     ]
    }
   ],
   "source": [
    "#To improve the velocity, run it on the GPU\n",
    "device = torch.device(\"cuda:0\" if torch.cuda.is_available() else \"cpu\")\n",
    "print('Device ', device)\n",
    "\n",
    "\n",
    "#Create the enviorment\n",
    "env = gym.make('MountainCarContinuous-v0')\n",
    "\n",
    "\n",
    "env.seed(101) #To ensure it's the same situation always simulated, even if it's random\n",
    "np.random.seed(101)\n",
    "\n",
    "print('observation space:', env.observation_space) #states, is continuous 2-D (a box)\n",
    "print('action space:', env.action_space) #actions, 1 discrete action, with 3 possible values\n",
    "print('  - low:', env.action_space.low) #minimum speed\n",
    "print('  - high:', env.action_space.high) #maximus speed\n",
    "#t.sleep(10)\n",
    "\n",
    "#Creation of a class to chosse the actions, the policy\n",
    "class Agent(nn.Module):\n",
    "    def __init__(self, env, h_size=16):\n",
    "        super(Agent, self).__init__() #Equivalent to super().__init__()\n",
    "                                      #Means that this class heritage the init from nn.Module class\n",
    "                                      # nn.Module it's the base class for all the neural net networks\n",
    "                                      # https://pytorch.org/docs/stable/_modules/torch/nn/modules/module.html#Module\n",
    "                                      # https://pytorch.org/docs/stable/nn.html\n",
    "        \n",
    "        self.env = env #Save the enviorment as the Gym enviorment\n",
    "        \n",
    "        # state, hidden layer, action sizes\n",
    "        self.s_size = env.observation_space.shape[0] #First layer number of states+\n",
    "        self.h_size = h_size #hidden layer\n",
    "        self.a_size = env.action_space.shape[0] #Last layer number of actions\n",
    "        \n",
    "        # define layers\n",
    "        self.fc1 = nn.Linear(self.s_size, self.h_size) # A linear layer that connect the states with the hidden layer\n",
    "        self.fc2 = nn.Linear(self.h_size, self.a_size) # Hidden layer the from hidden layer to actions\n",
    "        \n",
    "    def set_weights(self, weights):\n",
    "        s_size = self.s_size\n",
    "        h_size = self.h_size\n",
    "        a_size = self.a_size\n",
    "        \n",
    "        \n",
    "        \n",
    "       \n",
    "        # Are linear layers so \n",
    "        # weight _w and b it's the bias.\n",
    "        #https://medium.com/datathings/linear-layers-explained-in-a-simple-way-2319a9c2d1aa\n",
    "        \n",
    "        \n",
    "        #The bias learns a constant value, independent of the input.\n",
    "        \n",
    "        # Learns that all the positive states need at least a bias constant + something dependant\n",
    "        \n",
    "        # a linear layer learns that the output ,it's the Activation Function ( input * pendent (the weight) + constant)\n",
    "        \n",
    "        # linear neuron output = input *w + b\n",
    "        \n",
    "        # separate the weights for each layer\n",
    "        \n",
    "        # so we are saying that (state1 * wl1 + bl1)*wl2 +bl2, so we belive it follows a 1st order equation * activation function\n",
    "        \n",
    "        \n",
    "        \n",
    "        fc1_end = (s_size*h_size)+h_size \n",
    "        #The first states * number of hidden layers are the weights of the first layer, each network has different weights for each state input\n",
    "        fc1_W = torch.from_numpy(weights[:s_size*h_size].reshape(s_size, h_size))\n",
    "        #From the previous end , the follwing hidden layer neurons number weights are the bias, each neuron has only 1 bias, doesn't depend on the state input\n",
    "        fc1_b = torch.from_numpy(weights[s_size*h_size:fc1_end])\n",
    "        \n",
    "        #Every neuron has a weight for each action output\n",
    "        fc2_W = torch.from_numpy(weights[fc1_end:fc1_end+(h_size*a_size)].reshape(h_size, a_size))\n",
    "        fc2_b = torch.from_numpy(weights[fc1_end+(h_size*a_size):])\n",
    "       \n",
    "        # set the weights for each layer\n",
    "        self.fc1.weight.data.copy_(fc1_W.view_as(self.fc1.weight.data))\n",
    "        self.fc1.bias.data.copy_(fc1_b.view_as(self.fc1.bias.data))\n",
    "        self.fc2.weight.data.copy_(fc2_W.view_as(self.fc2.weight.data))\n",
    "        self.fc2.bias.data.copy_(fc2_b.view_as(self.fc2.bias.data))\n",
    "    \n",
    "    def get_weights_dim(self):\n",
    "        #In reality its returning the weights + bias dimensions, the +1 its the bias\n",
    "        return (self.s_size+1)*self.h_size + (self.h_size+1)*self.a_size\n",
    "        \n",
    "    def forward(self, x):\n",
    "        #forward its Method to be able to pass the data as batches of data\n",
    "        # It passes the data as Matrices adding the activation functions at the same time\n",
    "        \n",
    "        #They have activation functions to\n",
    "        \n",
    "        #https://towardsdatascience.com/activation-functions-neural-networks-1cbd9f8d91d6\n",
    "        \n",
    "        x = F.relu(self.fc1(x)) # Only possitive values pass\n",
    "        #x = F.tanh(self.fc2(x))\n",
    "        x = torch.tanh(self.fc2(x)) # Only from -1 to 1 values, as the action are \n",
    "                                    #go back , stay or go forward\n",
    "                                    #it's perfect for the last layer\n",
    "        return x.cpu().data\n",
    "        \n",
    "    def evaluate(self, weights, gamma=1.0, max_t=5000):\n",
    "        # Obtain the accumulative reward from the actions selected by the neural net\n",
    "        self.set_weights(weights)\n",
    "        episode_return = 0.0\n",
    "        state = self.env.reset()\n",
    "        for t in range(max_t):\n",
    "            state = torch.from_numpy(state).float().to(device)\n",
    "            action = self.forward(state)\n",
    "            state, reward, done, _ = self.env.step(action)\n",
    "            episode_return += reward * math.pow(gamma, t)\n",
    "            if done:\n",
    "                break\n",
    "        return episode_return\n",
    "#End of class\n",
    "\n"
   ]
  },
  {
   "cell_type": "code",
   "execution_count": 4,
   "metadata": {
    "scrolled": true
   },
   "outputs": [
    {
     "name": "stdout",
     "output_type": "stream",
     "text": [
      "2\n",
      "1\n",
      "4\n"
     ]
    }
   ],
   "source": [
    "print( env.observation_space.shape[0] ) #First layer number of states+\n",
    "h_size=16\n",
    "print( env.action_space.shape[0] ) #hidden layer"
   ]
  },
  {
   "cell_type": "code",
   "execution_count": 3,
   "metadata": {},
   "outputs": [],
   "source": [
    "agent = Agent(env).to(device) # Creation of a neural net in the device, in my case the GPU"
   ]
  },
  {
   "cell_type": "code",
   "execution_count": 4,
   "metadata": {},
   "outputs": [],
   "source": [
    "#Cross Entrophy Method, to choose the weights\n",
    "def cem(n_iterations=500, max_t=1000, gamma=1.0, print_every=10, pop_size=50, elite_frac=0.2, sigma=0.5):\n",
    "    \"\"\"PyTorch implementation of the cross-entropy method.\n",
    "        \n",
    "    Params\n",
    "    ======\n",
    "        n_iterations (int): maximum number of training iterations\n",
    "        max_t (int): maximum number of timesteps per episode\n",
    "        gamma (float): discount rate\n",
    "        print_every (int): how often to print average score (over last 100 episodes)\n",
    "        pop_size (int): size of population at each iteration\n",
    "        elite_frac (float): percentage of top performers to use in update\n",
    "        sigma (float): standard deviation of additive noise\n",
    "    \"\"\"\n",
    "    #Fracció de millors pesos que et quedas\n",
    "    n_elite=int(pop_size*elite_frac)\n",
    "    \n",
    "    #scores doble end queee , from 100 values\n",
    "    scores_deque = deque(maxlen=100)\n",
    "    #intial scores empty\n",
    "    scores = []\n",
    "    \n",
    "    #Initial best weights, are from 0 to 1, it's good to be small the weights, but they should be different from 0.\n",
    "    # small to avoid overfiting , different from 0 to update them\n",
    "    best_weight = sigma*np.random.randn(agent.get_weights_dim())\n",
    "\n",
    "    #Each iteration, modify  + 1 to 0 the best weight randomly\n",
    "    #Computes the reward with these weights\n",
    "    #Sort the reward to get the best ones\n",
    "    # Save the best weights\n",
    "    # the Best weight it's the mean of the best one\n",
    "    #compute the main reward of the main best rewards ones\n",
    "    #this it's show to evalute how good its\n",
    "    for i_iteration in range(1, n_iterations+1):\n",
    "        weights_pop = [best_weight + (sigma*np.random.randn(agent.get_weights_dim())) for i in range(pop_size)]\n",
    "        rewards = np.array([agent.evaluate(weights, gamma, max_t) for weights in weights_pop])\n",
    "\n",
    "        elite_idxs = rewards.argsort()[-n_elite:]\n",
    "        elite_weights = [weights_pop[i] for i in elite_idxs]\n",
    "        best_weight = np.array(elite_weights).mean(axis=0)\n",
    "\n",
    "        reward = agent.evaluate(best_weight, gamma=1.0)\n",
    "        scores_deque.append(reward)\n",
    "        scores.append(reward)\n",
    "        \n",
    "        #save the check point\n",
    "        torch.save(agent.state_dict(), 'checkpoint.pth')\n",
    "        \n",
    "        if i_iteration % print_every == 0:\n",
    "            print('Episode {}\\tAverage Score: {:.2f}'.format(i_iteration, np.mean(scores_deque)))\n",
    "\n",
    "        if np.mean(scores_deque)>=90.0:\n",
    "            print('\\nEnvironment solved in {:d} iterations!\\tAverage Score: {:.2f}'.format(i_iteration-100, np.mean(scores_deque)))\n",
    "            break\n",
    "    return scores\n"
   ]
  },
  {
   "cell_type": "code",
   "execution_count": 5,
   "metadata": {},
   "outputs": [
    {
     "name": "stdout",
     "output_type": "stream",
     "text": [
      "Episode 10\tAverage Score: -7.26\n",
      "Episode 20\tAverage Score: -5.93\n",
      "Episode 30\tAverage Score: -4.73\n",
      "Episode 40\tAverage Score: -4.43\n",
      "Episode 50\tAverage Score: -4.06\n",
      "Episode 60\tAverage Score: -3.77\n",
      "Episode 70\tAverage Score: -3.60\n",
      "Episode 80\tAverage Score: -4.09\n",
      "Episode 90\tAverage Score: -4.45\n",
      "Episode 100\tAverage Score: 1.82\n",
      "Episode 110\tAverage Score: 10.95\n",
      "Episode 120\tAverage Score: 21.03\n",
      "Episode 130\tAverage Score: 30.77\n",
      "Episode 140\tAverage Score: 40.58\n",
      "Episode 150\tAverage Score: 50.22\n",
      "Episode 160\tAverage Score: 59.77\n",
      "Episode 170\tAverage Score: 67.94\n",
      "Episode 180\tAverage Score: 75.03\n",
      "Episode 190\tAverage Score: 83.63\n",
      "Episode 200\tAverage Score: 87.13\n",
      "Episode 210\tAverage Score: 88.09\n",
      "Episode 220\tAverage Score: 87.85\n",
      "Episode 230\tAverage Score: 87.83\n",
      "Episode 240\tAverage Score: 87.61\n",
      "Episode 250\tAverage Score: 87.61\n",
      "Episode 260\tAverage Score: 87.65\n",
      "Episode 270\tAverage Score: 89.15\n",
      "\n",
      "Environment solved in 172 iterations!\tAverage Score: 90.50\n"
     ]
    },
    {
     "data": {
      "image/png": "[encoded data removed]",
      "text/plain": [
       "<Figure size 432x288 with 1 Axes>"
      ]
     },
     "metadata": {
      "needs_background": "light"
     },
     "output_type": "display_data"
    }
   ],
   "source": [
    "#Execute the cross entrophy method with default Values\n",
    "#scores = cem()\n",
    "\n",
    "\n",
    "#To don't ask the GPU as much reduce the pop_size, it's the amount of elemts try\n",
    "scores = cem(pop_size=30)\n",
    "# \n",
    "# plot the scores\n",
    "fig = plt.figure()\n",
    "ax = fig.add_subplot(111)\n",
    "plt.plot(np.arange(1, len(scores)+1), scores)\n",
    "plt.ylabel('Score')\n",
    "plt.xlabel('Episode #')\n",
    "plt.show()"
   ]
  },
  {
   "cell_type": "code",
   "execution_count": 9,
   "metadata": {},
   "outputs": [],
   "source": [
    "# load the weights from file\n",
    "agent.load_state_dict(torch.load('checkpoint.pth'))\n",
    "\n",
    "state = env.reset()\n",
    "while True:\n",
    "    state = torch.from_numpy(state).float().to(device)\n",
    "    with torch.no_grad():\n",
    "        action = agent(state)\n",
    "    env.render()\n",
    "    t.sleep(0.02)\n",
    "    next_state, reward, done, _ = env.step(action)\n",
    "    state = next_state\n",
    "    if done:\n",
    "        break\n",
    "\n",
    "env.close()"
   ]
  },
  {
   "cell_type": "code",
   "execution_count": 8,
   "metadata": {},
   "outputs": [],
   "source": [
    "env.close()"
   ]
  },
  {
   "cell_type": "code",
   "execution_count": null,
   "metadata": {},
   "outputs": [],
   "source": []
  }
 ],
 "metadata": {
  "anaconda-cloud": {},
  "kernelspec": {
   "display_name": "Python 3",
   "language": "python",
   "name": "python3"
  },
  "language_info": {
   "codemirror_mode": {
    "name": "ipython",
    "version": 3
   },
   "file_extension": ".py",
   "mimetype": "text/x-python",
   "name": "python",
   "nbconvert_exporter": "python",
   "pygments_lexer": "ipython3",
   "version": "3.7.4"
  }
 },
 "nbformat": 4,
 "nbformat_minor": 2
}
